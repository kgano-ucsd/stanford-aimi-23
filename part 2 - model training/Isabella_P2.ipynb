{
  "nbformat": 4,
  "nbformat_minor": 0,
  "metadata": {
    "colab": {
      "provenance": [],
      "gpuType": "T4"
    },
    "kernelspec": {
      "name": "python3",
      "display_name": "Python 3"
    },
    "language_info": {
      "name": "python"
    },
    "accelerator": "GPU"
  },
  "cells": [
    {
      "cell_type": "markdown",
      "source": [
        "## AIMI High School Internship 2023\n",
        "### Notebook 2: Training a Vision Model to Predict ET Distances\n",
        "\n",
        "**The Problem**: Given a chest X-ray, our goal in this project is to predict the distance from an endotracheal tube to the carina. This is an important clinical task - endotracheal tubes that are positioned too far (>5cm) above the carina will not work effectively.\n",
        "\n",
        "**Your Second Task**: You should now have a training dataset consisting of (a) chest X-rays and (b) annotations indicating the distance of the endotracheal tube from the carina. Now, your goal is to train a computer vision model to predict endotracheal tube distance from the image. You have **two options** for this task, and you may attempt one or both of these:\n",
        "- *Distance Categorization* : Train a model to determine whether the position of a tube is abnormal (>5.0 cm) or normal (≤ 5.0 cm).\n",
        "- *Distance Prediction*: Train a model that predicts the distance of the endotracheal tube from the carina in centimeters.\n",
        "\n",
        "In this notebook, we provide some simple starter code to get you started on training a computer vision model. You are not required to use this template - feel free to modify as you see fit.\n",
        "\n",
        "**Submitting Your Model**: We have created a leaderboard where you can submit your model and view results on the held-out test set. We provide instructions below for submitting your model to the leaderboard. **Please follow these directions carefully**.\n",
        "\n",
        "We will evaluate your results on the held-out test set with the following evaluation metrics:\n",
        "- *Distance Categorization* : We will measure AUROC, which is a metric commonly used in healthcare tasks. See this blog for a good explanation of AUROC: https://glassboxmedicine.com/2019/02/23/measuring-performance-auc-auroc/\n",
        "- *Distance Prediction*: We will measure the mean average error (also known as L1 distance) between the predicted distances and the true distances.\n"
      ],
      "metadata": {
        "id": "uMfGLGNLnXk7"
      }
    },
    {
      "cell_type": "markdown",
      "source": [
        "## Load Data\n",
        "Before you begin, make sure to go to `Runtime` > `Change Runtime Type` and select a T4 GPU. Then, upload `data.zip`. It should take about 10 minutes for these files to be uploaded. Then, run the following cells to unzip the dataset (which should take < 10 seconds)"
      ],
      "metadata": {
        "id": "RJ1rTMrgpoil"
      }
    },
    {
      "cell_type": "code",
      "source": [
        "from google.colab import drive\n",
        "drive.mount('/content/drive')"
      ],
      "metadata": {
        "colab": {
          "base_uri": "https://localhost:8080/"
        },
        "id": "coApmtXOtbNs",
        "outputId": "ae780549-2098-4751-c6a1-3057eadc950f"
      },
      "execution_count": null,
      "outputs": [
        {
          "output_type": "stream",
          "name": "stdout",
          "text": [
            "Drive already mounted at /content/drive; to attempt to forcibly remount, call drive.mount(\"/content/drive\", force_remount=True).\n"
          ]
        }
      ]
    },
    {
      "cell_type": "code",
      "source": [
        "!wget https://storage.googleapis.com/misc_jb/drive-download-20230620T044532Z-001.zip"
      ],
      "metadata": {
        "id": "WWqAORyQGTO-",
        "colab": {
          "base_uri": "https://localhost:8080/"
        },
        "outputId": "fe419c29-8fe3-4020-8702-6881bf31f8da"
      },
      "execution_count": null,
      "outputs": [
        {
          "output_type": "stream",
          "name": "stdout",
          "text": [
            "--2023-06-29 16:02:41--  https://storage.googleapis.com/misc_jb/drive-download-20230620T044532Z-001.zip\n",
            "Resolving storage.googleapis.com (storage.googleapis.com)... 172.253.63.128, 142.250.31.128, 142.251.111.128, ...\n",
            "Connecting to storage.googleapis.com (storage.googleapis.com)|172.253.63.128|:443... connected.\n",
            "HTTP request sent, awaiting response... 200 OK\n",
            "Length: 320879178 (306M) [application/zip]\n",
            "Saving to: ‘drive-download-20230620T044532Z-001.zip’\n",
            "\n",
            "drive-download-2023 100%[===================>] 306.01M  75.7MB/s    in 4.2s    \n",
            "\n",
            "2023-06-29 16:02:46 (73.1 MB/s) - ‘drive-download-20230620T044532Z-001.zip’ saved [320879178/320879178]\n",
            "\n"
          ]
        }
      ]
    },
    {
      "cell_type": "code",
      "source": [
        "!unzip drive-download-20230620T044532Z-001.zip"
      ],
      "metadata": {
        "colab": {
          "base_uri": "https://localhost:8080/"
        },
        "id": "b5J5Ks2TGWJW",
        "outputId": "4dc70b03-dc49-4766-c6c9-9aa1baab709e"
      },
      "execution_count": null,
      "outputs": [
        {
          "output_type": "stream",
          "name": "stdout",
          "text": [
            "Archive:  drive-download-20230620T044532Z-001.zip\n",
            "  inflating: mimic_test_student.csv  \n",
            "  inflating: mimic_train_student.csv  \n",
            "  inflating: mimic-test.zip          \n",
            "  inflating: mimic-train.zip         \n"
          ]
        }
      ]
    },
    {
      "cell_type": "code",
      "source": [
        "!unzip -qq /content/mimic-train.zip"
      ],
      "metadata": {
        "id": "ySb9AsmBp-Gz"
      },
      "execution_count": null,
      "outputs": []
    },
    {
      "cell_type": "code",
      "source": [
        "!unzip -qq /content/mimic-test.zip"
      ],
      "metadata": {
        "id": "NgjRCDkr5OoL"
      },
      "execution_count": null,
      "outputs": []
    },
    {
      "cell_type": "code",
      "source": [
        "data = pd.read_csv(\"mimic_train_labels.csv\")\n",
        "data['Labels'] = data['measures']<=5\n",
        "data"
      ],
      "metadata": {
        "colab": {
          "base_uri": "https://localhost:8080/",
          "height": 678
        },
        "id": "-TG77ycb59AP",
        "outputId": "b3f9a658-8f00-4d48-eaa6-89ef9a115e62"
      },
      "execution_count": null,
      "outputs": [
        {
          "output_type": "execute_result",
          "data": {
            "text/plain": [
              "       Unnamed: 0.1  Unnamed: 0  patient_id  \\\n",
              "0                 0           0       13282   \n",
              "1                 2           2       13360   \n",
              "2                 3           3       13360   \n",
              "3                 4           4       13360   \n",
              "4                 5           5       13360   \n",
              "...             ...         ...         ...   \n",
              "11560         12240       12240       13795   \n",
              "11561         12241       12241       13795   \n",
              "11562         12242       12242       13818   \n",
              "11563         12243       12243       13906   \n",
              "11564         12244       12244       13906   \n",
              "\n",
              "                              image_path                  report_path  \\\n",
              "0      mimic-train/13282/56112/91263.jpg  mimic-train/13282/56112.txt   \n",
              "1      mimic-train/13360/54397/84764.jpg  mimic-train/13360/54397.txt   \n",
              "2      mimic-train/13360/57560/92873.jpg  mimic-train/13360/57560.txt   \n",
              "3      mimic-train/13360/62326/88457.jpg  mimic-train/13360/62326.txt   \n",
              "4      mimic-train/13360/59248/87908.jpg  mimic-train/13360/59248.txt   \n",
              "...                                  ...                          ...   \n",
              "11560  mimic-train/13795/60202/87633.jpg  mimic-train/13795/60202.txt   \n",
              "11561  mimic-train/13795/60202/82617.jpg  mimic-train/13795/60202.txt   \n",
              "11562  mimic-train/13818/59053/93743.jpg  mimic-train/13818/59053.txt   \n",
              "11563  mimic-train/13906/62812/85124.jpg  mimic-train/13906/62812.txt   \n",
              "11564  mimic-train/13906/59127/93769.jpg  mimic-train/13906/59127.txt   \n",
              "\n",
              "       measures  positioning  Labels  \n",
              "0           6.0            0   False  \n",
              "1           5.6            0   False  \n",
              "2           4.6            1    True  \n",
              "3           5.0            1    True  \n",
              "4           1.8            1    True  \n",
              "...         ...          ...     ...  \n",
              "11560       3.7            1    True  \n",
              "11561       3.7            1    True  \n",
              "11562       4.7            1    True  \n",
              "11563       3.5            1    True  \n",
              "11564       2.9            1    True  \n",
              "\n",
              "[11565 rows x 8 columns]"
            ],
            "text/html": [
              "\n",
              "  <div id=\"df-09d91d3d-aafa-4b2e-997d-fd2e52f24820\">\n",
              "    <div class=\"colab-df-container\">\n",
              "      <div>\n",
              "<style scoped>\n",
              "    .dataframe tbody tr th:only-of-type {\n",
              "        vertical-align: middle;\n",
              "    }\n",
              "\n",
              "    .dataframe tbody tr th {\n",
              "        vertical-align: top;\n",
              "    }\n",
              "\n",
              "    .dataframe thead th {\n",
              "        text-align: right;\n",
              "    }\n",
              "</style>\n",
              "<table border=\"1\" class=\"dataframe\">\n",
              "  <thead>\n",
              "    <tr style=\"text-align: right;\">\n",
              "      <th></th>\n",
              "      <th>Unnamed: 0.1</th>\n",
              "      <th>Unnamed: 0</th>\n",
              "      <th>patient_id</th>\n",
              "      <th>image_path</th>\n",
              "      <th>report_path</th>\n",
              "      <th>measures</th>\n",
              "      <th>positioning</th>\n",
              "      <th>Labels</th>\n",
              "    </tr>\n",
              "  </thead>\n",
              "  <tbody>\n",
              "    <tr>\n",
              "      <th>0</th>\n",
              "      <td>0</td>\n",
              "      <td>0</td>\n",
              "      <td>13282</td>\n",
              "      <td>mimic-train/13282/56112/91263.jpg</td>\n",
              "      <td>mimic-train/13282/56112.txt</td>\n",
              "      <td>6.0</td>\n",
              "      <td>0</td>\n",
              "      <td>False</td>\n",
              "    </tr>\n",
              "    <tr>\n",
              "      <th>1</th>\n",
              "      <td>2</td>\n",
              "      <td>2</td>\n",
              "      <td>13360</td>\n",
              "      <td>mimic-train/13360/54397/84764.jpg</td>\n",
              "      <td>mimic-train/13360/54397.txt</td>\n",
              "      <td>5.6</td>\n",
              "      <td>0</td>\n",
              "      <td>False</td>\n",
              "    </tr>\n",
              "    <tr>\n",
              "      <th>2</th>\n",
              "      <td>3</td>\n",
              "      <td>3</td>\n",
              "      <td>13360</td>\n",
              "      <td>mimic-train/13360/57560/92873.jpg</td>\n",
              "      <td>mimic-train/13360/57560.txt</td>\n",
              "      <td>4.6</td>\n",
              "      <td>1</td>\n",
              "      <td>True</td>\n",
              "    </tr>\n",
              "    <tr>\n",
              "      <th>3</th>\n",
              "      <td>4</td>\n",
              "      <td>4</td>\n",
              "      <td>13360</td>\n",
              "      <td>mimic-train/13360/62326/88457.jpg</td>\n",
              "      <td>mimic-train/13360/62326.txt</td>\n",
              "      <td>5.0</td>\n",
              "      <td>1</td>\n",
              "      <td>True</td>\n",
              "    </tr>\n",
              "    <tr>\n",
              "      <th>4</th>\n",
              "      <td>5</td>\n",
              "      <td>5</td>\n",
              "      <td>13360</td>\n",
              "      <td>mimic-train/13360/59248/87908.jpg</td>\n",
              "      <td>mimic-train/13360/59248.txt</td>\n",
              "      <td>1.8</td>\n",
              "      <td>1</td>\n",
              "      <td>True</td>\n",
              "    </tr>\n",
              "    <tr>\n",
              "      <th>...</th>\n",
              "      <td>...</td>\n",
              "      <td>...</td>\n",
              "      <td>...</td>\n",
              "      <td>...</td>\n",
              "      <td>...</td>\n",
              "      <td>...</td>\n",
              "      <td>...</td>\n",
              "      <td>...</td>\n",
              "    </tr>\n",
              "    <tr>\n",
              "      <th>11560</th>\n",
              "      <td>12240</td>\n",
              "      <td>12240</td>\n",
              "      <td>13795</td>\n",
              "      <td>mimic-train/13795/60202/87633.jpg</td>\n",
              "      <td>mimic-train/13795/60202.txt</td>\n",
              "      <td>3.7</td>\n",
              "      <td>1</td>\n",
              "      <td>True</td>\n",
              "    </tr>\n",
              "    <tr>\n",
              "      <th>11561</th>\n",
              "      <td>12241</td>\n",
              "      <td>12241</td>\n",
              "      <td>13795</td>\n",
              "      <td>mimic-train/13795/60202/82617.jpg</td>\n",
              "      <td>mimic-train/13795/60202.txt</td>\n",
              "      <td>3.7</td>\n",
              "      <td>1</td>\n",
              "      <td>True</td>\n",
              "    </tr>\n",
              "    <tr>\n",
              "      <th>11562</th>\n",
              "      <td>12242</td>\n",
              "      <td>12242</td>\n",
              "      <td>13818</td>\n",
              "      <td>mimic-train/13818/59053/93743.jpg</td>\n",
              "      <td>mimic-train/13818/59053.txt</td>\n",
              "      <td>4.7</td>\n",
              "      <td>1</td>\n",
              "      <td>True</td>\n",
              "    </tr>\n",
              "    <tr>\n",
              "      <th>11563</th>\n",
              "      <td>12243</td>\n",
              "      <td>12243</td>\n",
              "      <td>13906</td>\n",
              "      <td>mimic-train/13906/62812/85124.jpg</td>\n",
              "      <td>mimic-train/13906/62812.txt</td>\n",
              "      <td>3.5</td>\n",
              "      <td>1</td>\n",
              "      <td>True</td>\n",
              "    </tr>\n",
              "    <tr>\n",
              "      <th>11564</th>\n",
              "      <td>12244</td>\n",
              "      <td>12244</td>\n",
              "      <td>13906</td>\n",
              "      <td>mimic-train/13906/59127/93769.jpg</td>\n",
              "      <td>mimic-train/13906/59127.txt</td>\n",
              "      <td>2.9</td>\n",
              "      <td>1</td>\n",
              "      <td>True</td>\n",
              "    </tr>\n",
              "  </tbody>\n",
              "</table>\n",
              "<p>11565 rows × 8 columns</p>\n",
              "</div>\n",
              "      <button class=\"colab-df-convert\" onclick=\"convertToInteractive('df-09d91d3d-aafa-4b2e-997d-fd2e52f24820')\"\n",
              "              title=\"Convert this dataframe to an interactive table.\"\n",
              "              style=\"display:none;\">\n",
              "        \n",
              "  <svg xmlns=\"http://www.w3.org/2000/svg\" height=\"24px\"viewBox=\"0 0 24 24\"\n",
              "       width=\"24px\">\n",
              "    <path d=\"M0 0h24v24H0V0z\" fill=\"none\"/>\n",
              "    <path d=\"M18.56 5.44l.94 2.06.94-2.06 2.06-.94-2.06-.94-.94-2.06-.94 2.06-2.06.94zm-11 1L8.5 8.5l.94-2.06 2.06-.94-2.06-.94L8.5 2.5l-.94 2.06-2.06.94zm10 10l.94 2.06.94-2.06 2.06-.94-2.06-.94-.94-2.06-.94 2.06-2.06.94z\"/><path d=\"M17.41 7.96l-1.37-1.37c-.4-.4-.92-.59-1.43-.59-.52 0-1.04.2-1.43.59L10.3 9.45l-7.72 7.72c-.78.78-.78 2.05 0 2.83L4 21.41c.39.39.9.59 1.41.59.51 0 1.02-.2 1.41-.59l7.78-7.78 2.81-2.81c.8-.78.8-2.07 0-2.86zM5.41 20L4 18.59l7.72-7.72 1.47 1.35L5.41 20z\"/>\n",
              "  </svg>\n",
              "      </button>\n",
              "      \n",
              "  <style>\n",
              "    .colab-df-container {\n",
              "      display:flex;\n",
              "      flex-wrap:wrap;\n",
              "      gap: 12px;\n",
              "    }\n",
              "\n",
              "    .colab-df-convert {\n",
              "      background-color: #E8F0FE;\n",
              "      border: none;\n",
              "      border-radius: 50%;\n",
              "      cursor: pointer;\n",
              "      display: none;\n",
              "      fill: #1967D2;\n",
              "      height: 32px;\n",
              "      padding: 0 0 0 0;\n",
              "      width: 32px;\n",
              "    }\n",
              "\n",
              "    .colab-df-convert:hover {\n",
              "      background-color: #E2EBFA;\n",
              "      box-shadow: 0px 1px 2px rgba(60, 64, 67, 0.3), 0px 1px 3px 1px rgba(60, 64, 67, 0.15);\n",
              "      fill: #174EA6;\n",
              "    }\n",
              "\n",
              "    [theme=dark] .colab-df-convert {\n",
              "      background-color: #3B4455;\n",
              "      fill: #D2E3FC;\n",
              "    }\n",
              "\n",
              "    [theme=dark] .colab-df-convert:hover {\n",
              "      background-color: #434B5C;\n",
              "      box-shadow: 0px 1px 3px 1px rgba(0, 0, 0, 0.15);\n",
              "      filter: drop-shadow(0px 1px 2px rgba(0, 0, 0, 0.3));\n",
              "      fill: #FFFFFF;\n",
              "    }\n",
              "  </style>\n",
              "\n",
              "      <script>\n",
              "        const buttonEl =\n",
              "          document.querySelector('#df-09d91d3d-aafa-4b2e-997d-fd2e52f24820 button.colab-df-convert');\n",
              "        buttonEl.style.display =\n",
              "          google.colab.kernel.accessAllowed ? 'block' : 'none';\n",
              "\n",
              "        async function convertToInteractive(key) {\n",
              "          const element = document.querySelector('#df-09d91d3d-aafa-4b2e-997d-fd2e52f24820');\n",
              "          const dataTable =\n",
              "            await google.colab.kernel.invokeFunction('convertToInteractive',\n",
              "                                                     [key], {});\n",
              "          if (!dataTable) return;\n",
              "\n",
              "          const docLinkHtml = 'Like what you see? Visit the ' +\n",
              "            '<a target=\"_blank\" href=https://colab.research.google.com/notebooks/data_table.ipynb>data table notebook</a>'\n",
              "            + ' to learn more about interactive tables.';\n",
              "          element.innerHTML = '';\n",
              "          dataTable['output_type'] = 'display_data';\n",
              "          await google.colab.output.renderOutput(dataTable, element);\n",
              "          const docLink = document.createElement('div');\n",
              "          docLink.innerHTML = docLinkHtml;\n",
              "          element.appendChild(docLink);\n",
              "        }\n",
              "      </script>\n",
              "    </div>\n",
              "  </div>\n",
              "  "
            ]
          },
          "metadata": {},
          "execution_count": 13
        }
      ]
    },
    {
      "cell_type": "markdown",
      "source": [],
      "metadata": {
        "id": "hsAHG4p4WR6U"
      }
    },
    {
      "cell_type": "markdown",
      "source": [
        "## Import Libraries\n",
        "We are leveraging the PyTorch framework to train our models. For more information and tutorials on PyTorch, see this link: https://pytorch.org/tutorials/beginner/basics/intro.html"
      ],
      "metadata": {
        "id": "q5etX4eYtu_s"
      }
    },
    {
      "cell_type": "code",
      "source": [
        "import torch\n",
        "import pandas as pd\n",
        "from PIL import Image\n",
        "import numpy as np\n",
        "from tqdm import tqdm\n",
        "from torchvision import transforms\n",
        "from torch.utils.data import DataLoader, random_split\n",
        "\n",
        "from torch.utils.data import Dataset\n",
        "from PIL import Image\n",
        "\n",
        "import torch.nn as nn\n",
        "from torch.utils.data import random_split\n",
        "from torch.utils.data import DataLoader\n",
        "\n",
        "import torch.nn as nn\n",
        "from torchvision import datasets, transforms, models\n",
        "\n",
        "import torch.nn as nn\n",
        "import numpy as np\n",
        "\n",
        "from sklearn.metrics import f1_score, roc_auc_score, accuracy_score"
      ],
      "metadata": {
        "id": "BzhTFDi7tuPK"
      },
      "execution_count": null,
      "outputs": []
    },
    {
      "cell_type": "markdown",
      "source": [
        "## Create Dataloaders\n",
        "We will implement a custom Dataset class to load in data. A custom Dataset class must have three methods: `__init__`, which sets up any class variables, `__len__`, which defines the total number of images, and `__getitem__`, which returns a single image and its paired label."
      ],
      "metadata": {
        "id": "QY7yvIM0yl4M"
      }
    },
    {
      "cell_type": "code",
      "source": [
        "from torch.utils.data import Dataset\n",
        "from PIL import Image\n",
        "\n",
        "device = \"cuda:0\" if torch.cuda.is_available() else \"cpu\"\n",
        "\n",
        "class ChestXRayDataset(Dataset):\n",
        "    def __init__(self, img_paths, labels, distances):\n",
        "        super(ChestXRayDataset, self).__init__()\n",
        "        self.img_paths = img_paths\n",
        "        self.labels = labels\n",
        "        self.distances = distances\n",
        "\n",
        "    def __len__(self):\n",
        "\n",
        "        return self.labels.shape[0]\n",
        "\n",
        "    def __getitem__(self, idx):\n",
        "        out_dict = {\"idx\": torch.tensor(idx),}\n",
        "\n",
        "        im = Image.open(f\"/content/{self.img_paths[idx]}\")\n",
        "\n",
        "        w, h = im.size\n",
        "        ima = Image.new('RGB', (w,h))\n",
        "        data = zip(im.getdata(), im.getdata(), im.getdata())\n",
        "        ima.putdata(list(data))\n",
        "        convert_tensor = transforms.Compose([\n",
        "            transforms.Resize(size=224),\n",
        "            transforms.ToTensor(),\n",
        "        ])\n",
        "\n",
        "        img_as_tensor = convert_tensor(ima)\n",
        "        img_as_tensor.requires_grad_ = True\n",
        "        out_dict[\"img\"] = img_as_tensor\n",
        "        out_dict[\"labels\"] = self.labels[idx]\n",
        "        out_dict[\"distance\"] = self.distances[idx]\n",
        "\n",
        "        return out_dict\n",
        "\n",
        "print(device)"
      ],
      "metadata": {
        "id": "FwH5586UqAnY",
        "colab": {
          "base_uri": "https://localhost:8080/"
        },
        "outputId": "58377675-8490-4393-8639-4f95dccd0d7a"
      },
      "execution_count": null,
      "outputs": [
        {
          "output_type": "stream",
          "name": "stdout",
          "text": [
            "cuda:0\n"
          ]
        }
      ]
    },
    {
      "cell_type": "markdown",
      "source": [
        "## Define Training Components\n",
        "Here, define any necessary components that you need to train your model, such as the model architecture, the loss function, and the optimizer."
      ],
      "metadata": {
        "id": "2oGRC8Mk0ytJ"
      }
    },
    {
      "cell_type": "code",
      "source": [
        "img_paths = data[\"image_path\"].to_numpy()\n",
        "labels = data[\"positioning\"].to_numpy()\n",
        "distances = data[\"measures\"].to_numpy()\n",
        "\n",
        "dataset = ChestXRayDataset(img_paths=img_paths, labels=labels, distances=distances)\n",
        "\n",
        "def get_train_val_split(dataset, batch_size=10, train_prop=0.8):\n",
        "    dataset_length = len(dataset)\n",
        "    train_length = int(dataset_length * train_prop)\n",
        "    val_length = dataset_length - train_length\n",
        "    train_dataset, val_dataset = random_split(\n",
        "            dataset, [train_length, val_length]\n",
        "        )\n",
        "\n",
        "    train_loader = DataLoader(dataset=train_dataset, batch_size=batch_size, shuffle=True, drop_last=True)\n",
        "    val_loader = DataLoader(dataset=val_dataset, batch_size=batch_size, shuffle=True, drop_last=True)\n",
        "    return train_loader, val_loader\n",
        "\n",
        "train_loader, val_loader = get_train_val_split(dataset, batch_size=32, train_prop=0.9)\n",
        "\n",
        "print(len(train_loader.dataset))\n",
        "print(len(val_loader.dataset))\n"
      ],
      "metadata": {
        "id": "-HeB-_-k0x_S",
        "colab": {
          "base_uri": "https://localhost:8080/"
        },
        "outputId": "f2755e51-f48a-43fb-9991-0d230302a2c9"
      },
      "execution_count": null,
      "outputs": [
        {
          "output_type": "stream",
          "name": "stdout",
          "text": [
            "10408\n",
            "1157\n"
          ]
        }
      ]
    },
    {
      "cell_type": "markdown",
      "source": [
        "## Training Code\n",
        "We provide starter code below that implements a simple training loop in PyTorch. Feel free to modify as you see fit."
      ],
      "metadata": {
        "id": "TXvOaNPB1OGH"
      }
    },
    {
      "cell_type": "code",
      "source": [
        "def calculate_scores(y_true, y_pred):\n",
        "   y_pred = y_pred.flatten()\n",
        "   locs_positive = np.where(y_pred > 0.5)\n",
        "   y_pred = np.zeros(y_pred.shape[0])\n",
        "   y_pred[locs_positive] = 1\n",
        "   return f1_score(y_true, y_pred), accuracy_score(y_true, y_pred)\n",
        "\n",
        "def validate(model, loss_fn, val_loader):\n",
        "\n",
        "    f1_scores, acc_scores = [], []\n",
        "    total_loss = 0\n",
        "    for data in tqdm(val_loader):\n",
        "        model.eval()\n",
        "        with torch.no_grad():\n",
        "            inputs = data[\"img\"].type(torch.FloatTensor).to(device)\n",
        "            labels = data[\"labels\"].type(torch.FloatTensor).to(device)\n",
        "            outputs = model(inputs)\n",
        "            loss_val = loss_fn(torch.flatten(outputs), labels)\n",
        "            total_loss += loss_val.item()\n",
        "\n",
        "        f1, acc = calculate_scores(labels.detach().cpu().numpy(), torch.sigmoid(outputs).detach().cpu().numpy())\n",
        "        f1_scores.append(f1)\n",
        "        acc_scores.append(acc)\n",
        "    return np.mean(f1_scores), np.mean(acc_scores), total_loss\n",
        "\n",
        "def train(model, loss_fn, train_loader, opt):\n",
        "    f1_scores, rocauc_scores, acc_scores = [], [], []\n",
        "    total_loss = 0\n",
        "    for data in tqdm(train_loader):\n",
        "        model.train()\n",
        "        inputs = data[\"img\"].type(torch.FloatTensor).to(device)\n",
        "        labels = data[\"labels\"].type(torch.FloatTensor).to(device)\n",
        "        opt.zero_grad()\n",
        "        outputs = model(inputs)\n",
        "        loss_val = loss_fn(torch.flatten(outputs), labels)\n",
        "        total_loss += loss_val.item()\n",
        "        loss_val.backward()\n",
        "        opt.step()\n",
        "\n",
        "        f1, acc = calculate_scores(labels.detach().cpu().numpy(), torch.sigmoid(outputs).detach().cpu().numpy())\n",
        "        f1_scores.append(f1)\n",
        "        acc_scores.append(acc)\n",
        "    return np.mean(f1_scores), np.mean(acc_scores), total_loss\n",
        "\n",
        "def batch_progress(epoch, tr_f1, tr_acc, tr_loss, val_f1, val_acc, val_loss):\n",
        "    # Batch train data\n",
        "    print(f\"Epoch {epoch} Training Statistics\")\n",
        "    print(f\"F1 Score: {tr_f1}\\n Accuracy: {tr_acc}\\n Loss: {tr_loss}\\n\")\n",
        "    # Batch validation data\n",
        "    print(f\"Epoch {epoch} Validation Statistics\")\n",
        "    print(f\"F1 Score: {val_f1}\\n Accuracy: {val_acc}\\n Loss: {val_loss}\\n\")\n",
        "\n"
      ],
      "metadata": {
        "id": "pWnzKime0exc"
      },
      "execution_count": null,
      "outputs": []
    },
    {
      "cell_type": "code",
      "source": [
        "def get_model(num_classes):\n",
        "    resnet50_mod = models.resnet50(weights=\"ResNet50_Weights.DEFAULT\")\n",
        "    n_features = resnet50_mod.fc.in_features\n",
        "    try:\n",
        "        resnet50_mod.fc = nn.Sequential(\n",
        "            nn.Linear(n_features, n_features),\n",
        "            nn.ReLU(),\n",
        "            nn.Linear(n_features, num_classes),\n",
        "        )\n",
        "        for i, child in enumerate(resnet50_mod.children()):\n",
        "          if i == 9:\n",
        "            for param in child.parameters():\n",
        "                param.requires_grad = True\n",
        "            break\n",
        "          for param in child.parameters():\n",
        "                param.requires_grad = False\n",
        "    except Exception as e:\n",
        "        print(\"ERROR: model.fc = nn.Linear(n_features, K)\")\n",
        "        raise e\n",
        "    return resnet50_mod\n",
        "\n",
        "import os\n",
        "\n",
        "def save_model(model, epoch, optimizer, val_f1, val_acc, val_loss,\n",
        "               tr_f1, tr_acc, tr_loss, file_name):\n",
        "    print(\"Saving model checkpoint at epoch\", epoch)\n",
        "    checkpoint = {\n",
        "        'epoch': epoch,\n",
        "        'model_state_dict': model.state_dict(),\n",
        "        'optimizer_state_dict': optimizer.state_dict(),\n",
        "        'val_f1': val_f1,\n",
        "        'val_acc': val_acc,\n",
        "        'val_loss': val_loss,\n",
        "        'train_f1': tr_f1,\n",
        "        'train_acc': tr_acc,\n",
        "        'train_loss': tr_loss,\n",
        "    }\n",
        "\n",
        "    # Create a folder to store the checkpoint file\n",
        "    folder_path = 'model_checkpoints'\n",
        "    os.makedirs(folder_path, exist_ok=True)\n",
        "\n",
        "    # Save the checkpoint file\n",
        "    file_path = os.path.join(folder_path, f\"{file_name}.pth\")\n",
        "    torch.save(checkpoint, file_path)\n",
        "    print(f\"Model checkpoint saved to: {file_path}\")\n",
        "\n",
        "model = get_model(num_classes=1).to(device)\n",
        "\n",
        "print(model)\n"
      ],
      "metadata": {
        "id": "yWl9WNpX454H",
        "colab": {
          "base_uri": "https://localhost:8080/"
        },
        "outputId": "71f62548-f9dc-49ca-81fd-33828eeaf9b9"
      },
      "execution_count": null,
      "outputs": [
        {
          "output_type": "stream",
          "name": "stdout",
          "text": [
            "ResNet(\n",
            "  (conv1): Conv2d(3, 64, kernel_size=(7, 7), stride=(2, 2), padding=(3, 3), bias=False)\n",
            "  (bn1): BatchNorm2d(64, eps=1e-05, momentum=0.1, affine=True, track_running_stats=True)\n",
            "  (relu): ReLU(inplace=True)\n",
            "  (maxpool): MaxPool2d(kernel_size=3, stride=2, padding=1, dilation=1, ceil_mode=False)\n",
            "  (layer1): Sequential(\n",
            "    (0): Bottleneck(\n",
            "      (conv1): Conv2d(64, 64, kernel_size=(1, 1), stride=(1, 1), bias=False)\n",
            "      (bn1): BatchNorm2d(64, eps=1e-05, momentum=0.1, affine=True, track_running_stats=True)\n",
            "      (conv2): Conv2d(64, 64, kernel_size=(3, 3), stride=(1, 1), padding=(1, 1), bias=False)\n",
            "      (bn2): BatchNorm2d(64, eps=1e-05, momentum=0.1, affine=True, track_running_stats=True)\n",
            "      (conv3): Conv2d(64, 256, kernel_size=(1, 1), stride=(1, 1), bias=False)\n",
            "      (bn3): BatchNorm2d(256, eps=1e-05, momentum=0.1, affine=True, track_running_stats=True)\n",
            "      (relu): ReLU(inplace=True)\n",
            "      (downsample): Sequential(\n",
            "        (0): Conv2d(64, 256, kernel_size=(1, 1), stride=(1, 1), bias=False)\n",
            "        (1): BatchNorm2d(256, eps=1e-05, momentum=0.1, affine=True, track_running_stats=True)\n",
            "      )\n",
            "    )\n",
            "    (1): Bottleneck(\n",
            "      (conv1): Conv2d(256, 64, kernel_size=(1, 1), stride=(1, 1), bias=False)\n",
            "      (bn1): BatchNorm2d(64, eps=1e-05, momentum=0.1, affine=True, track_running_stats=True)\n",
            "      (conv2): Conv2d(64, 64, kernel_size=(3, 3), stride=(1, 1), padding=(1, 1), bias=False)\n",
            "      (bn2): BatchNorm2d(64, eps=1e-05, momentum=0.1, affine=True, track_running_stats=True)\n",
            "      (conv3): Conv2d(64, 256, kernel_size=(1, 1), stride=(1, 1), bias=False)\n",
            "      (bn3): BatchNorm2d(256, eps=1e-05, momentum=0.1, affine=True, track_running_stats=True)\n",
            "      (relu): ReLU(inplace=True)\n",
            "    )\n",
            "    (2): Bottleneck(\n",
            "      (conv1): Conv2d(256, 64, kernel_size=(1, 1), stride=(1, 1), bias=False)\n",
            "      (bn1): BatchNorm2d(64, eps=1e-05, momentum=0.1, affine=True, track_running_stats=True)\n",
            "      (conv2): Conv2d(64, 64, kernel_size=(3, 3), stride=(1, 1), padding=(1, 1), bias=False)\n",
            "      (bn2): BatchNorm2d(64, eps=1e-05, momentum=0.1, affine=True, track_running_stats=True)\n",
            "      (conv3): Conv2d(64, 256, kernel_size=(1, 1), stride=(1, 1), bias=False)\n",
            "      (bn3): BatchNorm2d(256, eps=1e-05, momentum=0.1, affine=True, track_running_stats=True)\n",
            "      (relu): ReLU(inplace=True)\n",
            "    )\n",
            "  )\n",
            "  (layer2): Sequential(\n",
            "    (0): Bottleneck(\n",
            "      (conv1): Conv2d(256, 128, kernel_size=(1, 1), stride=(1, 1), bias=False)\n",
            "      (bn1): BatchNorm2d(128, eps=1e-05, momentum=0.1, affine=True, track_running_stats=True)\n",
            "      (conv2): Conv2d(128, 128, kernel_size=(3, 3), stride=(2, 2), padding=(1, 1), bias=False)\n",
            "      (bn2): BatchNorm2d(128, eps=1e-05, momentum=0.1, affine=True, track_running_stats=True)\n",
            "      (conv3): Conv2d(128, 512, kernel_size=(1, 1), stride=(1, 1), bias=False)\n",
            "      (bn3): BatchNorm2d(512, eps=1e-05, momentum=0.1, affine=True, track_running_stats=True)\n",
            "      (relu): ReLU(inplace=True)\n",
            "      (downsample): Sequential(\n",
            "        (0): Conv2d(256, 512, kernel_size=(1, 1), stride=(2, 2), bias=False)\n",
            "        (1): BatchNorm2d(512, eps=1e-05, momentum=0.1, affine=True, track_running_stats=True)\n",
            "      )\n",
            "    )\n",
            "    (1): Bottleneck(\n",
            "      (conv1): Conv2d(512, 128, kernel_size=(1, 1), stride=(1, 1), bias=False)\n",
            "      (bn1): BatchNorm2d(128, eps=1e-05, momentum=0.1, affine=True, track_running_stats=True)\n",
            "      (conv2): Conv2d(128, 128, kernel_size=(3, 3), stride=(1, 1), padding=(1, 1), bias=False)\n",
            "      (bn2): BatchNorm2d(128, eps=1e-05, momentum=0.1, affine=True, track_running_stats=True)\n",
            "      (conv3): Conv2d(128, 512, kernel_size=(1, 1), stride=(1, 1), bias=False)\n",
            "      (bn3): BatchNorm2d(512, eps=1e-05, momentum=0.1, affine=True, track_running_stats=True)\n",
            "      (relu): ReLU(inplace=True)\n",
            "    )\n",
            "    (2): Bottleneck(\n",
            "      (conv1): Conv2d(512, 128, kernel_size=(1, 1), stride=(1, 1), bias=False)\n",
            "      (bn1): BatchNorm2d(128, eps=1e-05, momentum=0.1, affine=True, track_running_stats=True)\n",
            "      (conv2): Conv2d(128, 128, kernel_size=(3, 3), stride=(1, 1), padding=(1, 1), bias=False)\n",
            "      (bn2): BatchNorm2d(128, eps=1e-05, momentum=0.1, affine=True, track_running_stats=True)\n",
            "      (conv3): Conv2d(128, 512, kernel_size=(1, 1), stride=(1, 1), bias=False)\n",
            "      (bn3): BatchNorm2d(512, eps=1e-05, momentum=0.1, affine=True, track_running_stats=True)\n",
            "      (relu): ReLU(inplace=True)\n",
            "    )\n",
            "    (3): Bottleneck(\n",
            "      (conv1): Conv2d(512, 128, kernel_size=(1, 1), stride=(1, 1), bias=False)\n",
            "      (bn1): BatchNorm2d(128, eps=1e-05, momentum=0.1, affine=True, track_running_stats=True)\n",
            "      (conv2): Conv2d(128, 128, kernel_size=(3, 3), stride=(1, 1), padding=(1, 1), bias=False)\n",
            "      (bn2): BatchNorm2d(128, eps=1e-05, momentum=0.1, affine=True, track_running_stats=True)\n",
            "      (conv3): Conv2d(128, 512, kernel_size=(1, 1), stride=(1, 1), bias=False)\n",
            "      (bn3): BatchNorm2d(512, eps=1e-05, momentum=0.1, affine=True, track_running_stats=True)\n",
            "      (relu): ReLU(inplace=True)\n",
            "    )\n",
            "  )\n",
            "  (layer3): Sequential(\n",
            "    (0): Bottleneck(\n",
            "      (conv1): Conv2d(512, 256, kernel_size=(1, 1), stride=(1, 1), bias=False)\n",
            "      (bn1): BatchNorm2d(256, eps=1e-05, momentum=0.1, affine=True, track_running_stats=True)\n",
            "      (conv2): Conv2d(256, 256, kernel_size=(3, 3), stride=(2, 2), padding=(1, 1), bias=False)\n",
            "      (bn2): BatchNorm2d(256, eps=1e-05, momentum=0.1, affine=True, track_running_stats=True)\n",
            "      (conv3): Conv2d(256, 1024, kernel_size=(1, 1), stride=(1, 1), bias=False)\n",
            "      (bn3): BatchNorm2d(1024, eps=1e-05, momentum=0.1, affine=True, track_running_stats=True)\n",
            "      (relu): ReLU(inplace=True)\n",
            "      (downsample): Sequential(\n",
            "        (0): Conv2d(512, 1024, kernel_size=(1, 1), stride=(2, 2), bias=False)\n",
            "        (1): BatchNorm2d(1024, eps=1e-05, momentum=0.1, affine=True, track_running_stats=True)\n",
            "      )\n",
            "    )\n",
            "    (1): Bottleneck(\n",
            "      (conv1): Conv2d(1024, 256, kernel_size=(1, 1), stride=(1, 1), bias=False)\n",
            "      (bn1): BatchNorm2d(256, eps=1e-05, momentum=0.1, affine=True, track_running_stats=True)\n",
            "      (conv2): Conv2d(256, 256, kernel_size=(3, 3), stride=(1, 1), padding=(1, 1), bias=False)\n",
            "      (bn2): BatchNorm2d(256, eps=1e-05, momentum=0.1, affine=True, track_running_stats=True)\n",
            "      (conv3): Conv2d(256, 1024, kernel_size=(1, 1), stride=(1, 1), bias=False)\n",
            "      (bn3): BatchNorm2d(1024, eps=1e-05, momentum=0.1, affine=True, track_running_stats=True)\n",
            "      (relu): ReLU(inplace=True)\n",
            "    )\n",
            "    (2): Bottleneck(\n",
            "      (conv1): Conv2d(1024, 256, kernel_size=(1, 1), stride=(1, 1), bias=False)\n",
            "      (bn1): BatchNorm2d(256, eps=1e-05, momentum=0.1, affine=True, track_running_stats=True)\n",
            "      (conv2): Conv2d(256, 256, kernel_size=(3, 3), stride=(1, 1), padding=(1, 1), bias=False)\n",
            "      (bn2): BatchNorm2d(256, eps=1e-05, momentum=0.1, affine=True, track_running_stats=True)\n",
            "      (conv3): Conv2d(256, 1024, kernel_size=(1, 1), stride=(1, 1), bias=False)\n",
            "      (bn3): BatchNorm2d(1024, eps=1e-05, momentum=0.1, affine=True, track_running_stats=True)\n",
            "      (relu): ReLU(inplace=True)\n",
            "    )\n",
            "    (3): Bottleneck(\n",
            "      (conv1): Conv2d(1024, 256, kernel_size=(1, 1), stride=(1, 1), bias=False)\n",
            "      (bn1): BatchNorm2d(256, eps=1e-05, momentum=0.1, affine=True, track_running_stats=True)\n",
            "      (conv2): Conv2d(256, 256, kernel_size=(3, 3), stride=(1, 1), padding=(1, 1), bias=False)\n",
            "      (bn2): BatchNorm2d(256, eps=1e-05, momentum=0.1, affine=True, track_running_stats=True)\n",
            "      (conv3): Conv2d(256, 1024, kernel_size=(1, 1), stride=(1, 1), bias=False)\n",
            "      (bn3): BatchNorm2d(1024, eps=1e-05, momentum=0.1, affine=True, track_running_stats=True)\n",
            "      (relu): ReLU(inplace=True)\n",
            "    )\n",
            "    (4): Bottleneck(\n",
            "      (conv1): Conv2d(1024, 256, kernel_size=(1, 1), stride=(1, 1), bias=False)\n",
            "      (bn1): BatchNorm2d(256, eps=1e-05, momentum=0.1, affine=True, track_running_stats=True)\n",
            "      (conv2): Conv2d(256, 256, kernel_size=(3, 3), stride=(1, 1), padding=(1, 1), bias=False)\n",
            "      (bn2): BatchNorm2d(256, eps=1e-05, momentum=0.1, affine=True, track_running_stats=True)\n",
            "      (conv3): Conv2d(256, 1024, kernel_size=(1, 1), stride=(1, 1), bias=False)\n",
            "      (bn3): BatchNorm2d(1024, eps=1e-05, momentum=0.1, affine=True, track_running_stats=True)\n",
            "      (relu): ReLU(inplace=True)\n",
            "    )\n",
            "    (5): Bottleneck(\n",
            "      (conv1): Conv2d(1024, 256, kernel_size=(1, 1), stride=(1, 1), bias=False)\n",
            "      (bn1): BatchNorm2d(256, eps=1e-05, momentum=0.1, affine=True, track_running_stats=True)\n",
            "      (conv2): Conv2d(256, 256, kernel_size=(3, 3), stride=(1, 1), padding=(1, 1), bias=False)\n",
            "      (bn2): BatchNorm2d(256, eps=1e-05, momentum=0.1, affine=True, track_running_stats=True)\n",
            "      (conv3): Conv2d(256, 1024, kernel_size=(1, 1), stride=(1, 1), bias=False)\n",
            "      (bn3): BatchNorm2d(1024, eps=1e-05, momentum=0.1, affine=True, track_running_stats=True)\n",
            "      (relu): ReLU(inplace=True)\n",
            "    )\n",
            "  )\n",
            "  (layer4): Sequential(\n",
            "    (0): Bottleneck(\n",
            "      (conv1): Conv2d(1024, 512, kernel_size=(1, 1), stride=(1, 1), bias=False)\n",
            "      (bn1): BatchNorm2d(512, eps=1e-05, momentum=0.1, affine=True, track_running_stats=True)\n",
            "      (conv2): Conv2d(512, 512, kernel_size=(3, 3), stride=(2, 2), padding=(1, 1), bias=False)\n",
            "      (bn2): BatchNorm2d(512, eps=1e-05, momentum=0.1, affine=True, track_running_stats=True)\n",
            "      (conv3): Conv2d(512, 2048, kernel_size=(1, 1), stride=(1, 1), bias=False)\n",
            "      (bn3): BatchNorm2d(2048, eps=1e-05, momentum=0.1, affine=True, track_running_stats=True)\n",
            "      (relu): ReLU(inplace=True)\n",
            "      (downsample): Sequential(\n",
            "        (0): Conv2d(1024, 2048, kernel_size=(1, 1), stride=(2, 2), bias=False)\n",
            "        (1): BatchNorm2d(2048, eps=1e-05, momentum=0.1, affine=True, track_running_stats=True)\n",
            "      )\n",
            "    )\n",
            "    (1): Bottleneck(\n",
            "      (conv1): Conv2d(2048, 512, kernel_size=(1, 1), stride=(1, 1), bias=False)\n",
            "      (bn1): BatchNorm2d(512, eps=1e-05, momentum=0.1, affine=True, track_running_stats=True)\n",
            "      (conv2): Conv2d(512, 512, kernel_size=(3, 3), stride=(1, 1), padding=(1, 1), bias=False)\n",
            "      (bn2): BatchNorm2d(512, eps=1e-05, momentum=0.1, affine=True, track_running_stats=True)\n",
            "      (conv3): Conv2d(512, 2048, kernel_size=(1, 1), stride=(1, 1), bias=False)\n",
            "      (bn3): BatchNorm2d(2048, eps=1e-05, momentum=0.1, affine=True, track_running_stats=True)\n",
            "      (relu): ReLU(inplace=True)\n",
            "    )\n",
            "    (2): Bottleneck(\n",
            "      (conv1): Conv2d(2048, 512, kernel_size=(1, 1), stride=(1, 1), bias=False)\n",
            "      (bn1): BatchNorm2d(512, eps=1e-05, momentum=0.1, affine=True, track_running_stats=True)\n",
            "      (conv2): Conv2d(512, 512, kernel_size=(3, 3), stride=(1, 1), padding=(1, 1), bias=False)\n",
            "      (bn2): BatchNorm2d(512, eps=1e-05, momentum=0.1, affine=True, track_running_stats=True)\n",
            "      (conv3): Conv2d(512, 2048, kernel_size=(1, 1), stride=(1, 1), bias=False)\n",
            "      (bn3): BatchNorm2d(2048, eps=1e-05, momentum=0.1, affine=True, track_running_stats=True)\n",
            "      (relu): ReLU(inplace=True)\n",
            "    )\n",
            "  )\n",
            "  (avgpool): AdaptiveAvgPool2d(output_size=(1, 1))\n",
            "  (fc): Sequential(\n",
            "    (0): Linear(in_features=2048, out_features=2048, bias=True)\n",
            "    (1): ReLU()\n",
            "    (2): Linear(in_features=2048, out_features=1, bias=True)\n",
            "  )\n",
            ")\n"
          ]
        }
      ]
    },
    {
      "cell_type": "code",
      "source": [
        "import torch.nn as nn\n",
        "import numpy as np\n",
        "\n",
        "opt = torch.optim.Adam(model.parameters(), lr=0.001, betas=(0.9, 0.999))\n",
        "loss_fn = nn.BCEWithLogitsLoss()\n",
        "CHECKPOINTS = [5]\n",
        "\n",
        "EXPERIMENT_NAME = \"resnet50_tl_exp_5\"\n",
        "NUM_EPOCHS = 5\n",
        "\n",
        "train_f1, train_acc, train_loss = [], [], []\n",
        "val_f1, val_acc, val_loss = [], [], []\n",
        "best_model_metrics = {\"best_val_acc\": 0.0,\n",
        "                      \"best_val_f1\": 0.0,\n",
        "                      \"best_val_loss\":0.0}\n",
        "for epoch in range(NUM_EPOCHS):\n",
        "    batch_tr_f1, batch_tr_acc, batch_tr_loss = train(model, loss_fn, train_loader, opt)\n",
        "    batch_val_f1, batch_val_acc, batch_val_loss = validate(model, loss_fn, val_loader)\n",
        "\n",
        "    batch_progress(\n",
        "        epoch, batch_tr_f1, batch_tr_acc, batch_tr_loss,\n",
        "        batch_val_f1, batch_val_acc, batch_val_loss\n",
        "        )\n",
        "\n",
        "    train_f1.append(batch_tr_f1)\n",
        "    train_acc.append(batch_tr_acc)\n",
        "    train_loss.append(batch_tr_loss)\n",
        "\n",
        "    val_f1.append(batch_val_f1)\n",
        "    val_acc.append(batch_val_acc)\n",
        "    train_loss.append(batch_val_loss)\n",
        "\n",
        "    if best_model_metrics[\"best_val_acc\"] < batch_val_acc :\n",
        "      best_model_metrics[\"best_val_acc\"] = batch_val_acc\n",
        "      best_model_metrics[\"best_val_f1\"] = batch_val_f1\n",
        "      best_model_metrics[\"best_val_loss\"] = batch_val_loss\n",
        "      save_model(\n",
        "           model, epoch, opt, val_f1, val_acc, val_loss,\n",
        "           train_f1, train_acc, train_loss,\n",
        "           f\"{EXPERIMENT_NAME}_epoch_{epoch}\"\n",
        "          )\n",
        "    print(f'Your best model has \\n \\\n",
        "        Val Acc: {best_model_metrics[\"best_val_acc\"]} \\n \\\n",
        "        Val F1: {best_model_metrics[\"best_val_f1\"]}')\n",
        "\n",
        "## TRAINING COMPLETE ##\n",
        "save_model(\n",
        "           model, epoch, opt, val_f1, val_acc, val_loss,\n",
        "           train_f1, train_acc, train_loss,\n",
        "           f\"{EXPERIMENT_NAME}_epoch_{NUM_EPOCHS}\"\n",
        "          )\n",
        "\n",
        "train_f1 = np.array(train_f1)\n",
        "train_acc = np.array(train_acc)\n",
        "train_loss = np.array(train_loss)\n",
        "\n",
        "val_f1 = np.array(val_f1)\n",
        "val_acc = np.array(val_acc)\n",
        "val_loss = np.array(val_loss)"
      ],
      "metadata": {
        "colab": {
          "base_uri": "https://localhost:8080/"
        },
        "id": "Y4xoCnObGI6D",
        "outputId": "c320093a-7861-47a1-cbca-050275d9896c"
      },
      "execution_count": null,
      "outputs": [
        {
          "output_type": "stream",
          "name": "stderr",
          "text": [
            "100%|██████████| 325/325 [11:26<00:00,  2.11s/it]\n",
            "100%|██████████| 36/36 [01:16<00:00,  2.14s/it]\n"
          ]
        },
        {
          "output_type": "stream",
          "name": "stdout",
          "text": [
            "Epoch 0 Training Statistics\n",
            "F1 Score: 0.8248170594060144\n",
            " Accuracy: 0.7086538461538462\n",
            " Loss: 190.59993797540665\n",
            "\n",
            "Epoch 0 Validation Statistics\n",
            "F1 Score: 0.8260527280607369\n",
            " Accuracy: 0.7100694444444444\n",
            " Loss: 20.546646028757095\n",
            "\n",
            "Saving model checkpoint at epoch 0\n",
            "Model checkpoint saved to: model_checkpoints/resnet50_tl_exp_5_epoch_0.pth\n",
            "Your best model has \n",
            "         Val Acc: 0.7100694444444444 \n",
            "         Val F1: 0.8260527280607369\n"
          ]
        },
        {
          "output_type": "stream",
          "name": "stderr",
          "text": [
            "100%|██████████| 325/325 [11:31<00:00,  2.13s/it]\n",
            "100%|██████████| 36/36 [01:16<00:00,  2.13s/it]\n"
          ]
        },
        {
          "output_type": "stream",
          "name": "stdout",
          "text": [
            "Epoch 1 Training Statistics\n",
            "F1 Score: 0.8220211613556603\n",
            " Accuracy: 0.715\n",
            " Loss: 183.30790930986404\n",
            "\n",
            "Epoch 1 Validation Statistics\n",
            "F1 Score: 0.824892184447087\n",
            " Accuracy: 0.7196180555555556\n",
            " Loss: 20.47095113992691\n",
            "\n",
            "Saving model checkpoint at epoch 1\n",
            "Model checkpoint saved to: model_checkpoints/resnet50_tl_exp_5_epoch_1.pth\n",
            "Your best model has \n",
            "         Val Acc: 0.7196180555555556 \n",
            "         Val F1: 0.824892184447087\n"
          ]
        },
        {
          "output_type": "stream",
          "name": "stderr",
          "text": [
            "100%|██████████| 325/325 [11:55<00:00,  2.20s/it]\n",
            "100%|██████████| 36/36 [01:15<00:00,  2.10s/it]\n"
          ]
        },
        {
          "output_type": "stream",
          "name": "stdout",
          "text": [
            "Epoch 2 Training Statistics\n",
            "F1 Score: 0.826512077012758\n",
            " Accuracy: 0.7254807692307692\n",
            " Loss: 177.54432013630867\n",
            "\n",
            "Epoch 2 Validation Statistics\n",
            "F1 Score: 0.8249044395544342\n",
            " Accuracy: 0.7135416666666666\n",
            " Loss: 20.901028096675873\n",
            "\n",
            "Your best model has \n",
            "         Val Acc: 0.7196180555555556 \n",
            "         Val F1: 0.824892184447087\n"
          ]
        },
        {
          "output_type": "stream",
          "name": "stderr",
          "text": [
            "100%|██████████| 325/325 [11:51<00:00,  2.19s/it]\n",
            "100%|██████████| 36/36 [01:18<00:00,  2.17s/it]\n"
          ]
        },
        {
          "output_type": "stream",
          "name": "stdout",
          "text": [
            "Epoch 3 Training Statistics\n",
            "F1 Score: 0.8259661389071079\n",
            " Accuracy: 0.7283653846153846\n",
            " Loss: 175.0719091296196\n",
            "\n",
            "Epoch 3 Validation Statistics\n",
            "F1 Score: 0.821193584504216\n",
            " Accuracy: 0.7196180555555556\n",
            " Loss: 20.840418368577957\n",
            "\n",
            "Your best model has \n",
            "         Val Acc: 0.7196180555555556 \n",
            "         Val F1: 0.824892184447087\n"
          ]
        },
        {
          "output_type": "stream",
          "name": "stderr",
          "text": [
            "100%|██████████| 325/325 [11:54<00:00,  2.20s/it]\n",
            "100%|██████████| 36/36 [01:19<00:00,  2.21s/it]\n"
          ]
        },
        {
          "output_type": "stream",
          "name": "stdout",
          "text": [
            "Epoch 4 Training Statistics\n",
            "F1 Score: 0.8343012989360764\n",
            " Accuracy: 0.7452884615384615\n",
            " Loss: 170.14203026890755\n",
            "\n",
            "Epoch 4 Validation Statistics\n",
            "F1 Score: 0.7904534781172613\n",
            " Accuracy: 0.6979166666666666\n",
            " Loss: 21.196927070617676\n",
            "\n",
            "Your best model has \n",
            "         Val Acc: 0.7196180555555556 \n",
            "         Val F1: 0.824892184447087\n",
            "Saving model checkpoint at epoch 4\n",
            "Model checkpoint saved to: model_checkpoints/resnet50_tl_exp_5_epoch_5.pth\n"
          ]
        }
      ]
    },
    {
      "cell_type": "code",
      "source": [
        "import time\n",
        "\n",
        "# Run an infinite loop\n",
        "while True:\n",
        "    print(\"Colab is running...\")\n",
        "    time.sleep(1200)\n"
      ],
      "metadata": {
        "colab": {
          "base_uri": "https://localhost:8080/"
        },
        "id": "jO9Y9VxXYlTG",
        "outputId": "874948bd-589f-4013-81a9-0d818cef198f"
      },
      "execution_count": null,
      "outputs": [
        {
          "output_type": "stream",
          "name": "stdout",
          "text": [
            "Colab is running...\n",
            "Colab is running...\n",
            "Colab is running...\n",
            "Colab is running...\n",
            "Colab is running...\n",
            "Colab is running...\n",
            "Colab is running...\n"
          ]
        }
      ]
    },
    {
      "cell_type": "code",
      "source": [
        "import matplotlib.pyplot as plt\n",
        "\n",
        "# Plot loss\n",
        "plt.plot(train_loss, label=\"Train Loss\")\n",
        "plt.plot(val_loss, label=\"Val Loss\")\n",
        "plt.xlabel(\"Epoch\")\n",
        "plt.ylabel(\"Loss\")\n",
        "plt.title('Epoch vs Loss')\n",
        "plt.show()\n",
        "\n",
        "# Plot f1\n",
        "plt.plot(train_f1, label=\"Train F1\")\n",
        "plt.plot(val_f1, label=\"Val F1\")\n",
        "plt.xlabel(\"Epoch\")\n",
        "plt.ylabel(\"F1 Score\")\n",
        "plt.title('Epoch vs F1 Score')\n",
        "plt.show()\n",
        "\n",
        "# Plot Accuracy\n",
        "plt.plot(train_f1, label=\"Train Acc\")\n",
        "plt.plot(val_f1, label=\"Val Acc\")\n",
        "plt.xlabel(\"Epoch\")\n",
        "plt.ylabel(\"Accuracy\")\n",
        "plt.title('Epoch vs Accuracy')\n",
        "plt.show()\n"
      ],
      "metadata": {
        "id": "XYQxUM5Jb6RF",
        "colab": {
          "base_uri": "https://localhost:8080/",
          "height": 1000
        },
        "outputId": "9c05e409-502a-42db-eaca-66a283afe514"
      },
      "execution_count": null,
      "outputs": [
        {
          "output_type": "display_data",
          "data": {
            "text/plain": [
              "<Figure size 640x480 with 1 Axes>"
            ],
            "image/png": "[encoded data removed]"
          },
          "metadata": {}
        },
        {
          "output_type": "display_data",
          "data": {
            "text/plain": [
              "<Figure size 640x480 with 1 Axes>"
            ],
            "image/png": "[encoded data removed]"
          },
          "metadata": {}
        },
        {
          "output_type": "display_data",
          "data": {
            "text/plain": [
              "<Figure size 640x480 with 1 Axes>"
            ],
            "image/png": "[encoded data removed]"
          },
          "metadata": {}
        }
      ]
    },
    {
      "cell_type": "markdown",
      "source": [
        "## Submitting Your Results\n",
        "Once you have successfully trained your model, generate predictions on the test set and save your results as a `.csv` file. This file can then be uploaded to the leaderboard.\n",
        "\n",
        "Your final `.csv` file **must** have the following format:\n",
        "- There must be a column titled `image_path` with the paths to the test set images. This column should be identical to the one provided in `mimic_test_student.csv`.\n",
        "- There must be a column titled `pred` with your model outputs.\n",
        "  - If you are running the `distance categorization` task, this column must have floating point numbers ranging between 0 and 1. Higher numbers should indicate a greater likelihood that the tube distance is abnormal. Hint: You can convert model outputs to the 0 to 1 range by applying the sigmoid activation function (torch.nn.sigmoid())\n",
        "  - If you are running the `distance prediction` task, this column must have numbers representing the tube distance in centimeters.\n",
        "- Double check that there are 500 rows in your output file"
      ],
      "metadata": {
        "id": "l8F_1wzY6I7j"
      }
    },
    {
      "cell_type": "code",
      "source": [
        "model = # Model Architecture\n",
        "ckpt = torch.load(\"/content/best.pkl\")\n",
        "model.load_state_dict(ckpt[\"state_dict\"])\n",
        "\n",
        "test_dataset = ChestXRayDataset(\"\"\"Fill in args here\"\"\")\n",
        "test_loader = torch.utils.data.DataLoader(dataset=test_dataset, batch_size=4, shuffle=False, drop_last=False)\n",
        "\n",
        "test_results = {\"image_path\": [], \"pred\": []}\n",
        "# Write method to load in data from test_loader, compute model predictions, and append results to test_results dict\n"
      ],
      "metadata": {
        "id": "M5osagFf5Fox"
      },
      "execution_count": null,
      "outputs": []
    },
    {
      "cell_type": "code",
      "source": [
        "test_results = pd.DataFrame(test_results)\n",
        "test_results.to_csv(f\"/content/test.csv\")"
      ],
      "metadata": {
        "id": "q-6CgEWNWHdl"
      },
      "execution_count": null,
      "outputs": []
    },
    {
      "cell_type": "code",
      "source": [],
      "metadata": {
        "id": "RuRWCSiVXL6n"
      },
      "execution_count": null,
      "outputs": []
    }
  ]
}