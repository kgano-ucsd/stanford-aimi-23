{
 "cells": [
  {
   "cell_type": "markdown",
   "metadata": {
    "id": "Gqh0F-60baUC"
   },
   "source": [
    "## AIMI High School Internship 2023\n",
    "### Notebook 1: Extracting Labels from Radiology Reports\n",
    "\n",
    "**The Problem**: Given a chest X-ray, our goal in this project is to predict the distance from an endotracheal tube to the carina. This is an important clinical task - endotracheal tubes that are positioned too far (>5cm) above the carina will not work effectively.\n",
    "\n",
    "In order to train a model that can predict tube distances given chest X-rays, we require a ***training set*** with chest X-rays and labeled tube distances. However, when working with real-world medical data, important labels (e.g. endotracheal tube distances) are often not annotated ahead of time. The only data that a researcher has access to are the raw images and free-form clinical text written by the radiologist.\n",
    "\n",
    "**Your First Task**: Given a set of chest X-rays and paired radiology reports, your goal is to use natural language processing tools to extract endotracheal tube distances from the reports.\n",
    "\n",
    "**Looking Ahead**: When you complete this task, you should have a training dataset with chest X-rays labeled with endotracheal tube distances. You will later use this dataset to train a computer vision model that predicts the tube distance given an image."
   ]
  },
  {
   "cell_type": "markdown",
   "metadata": {
    "id": "_75WVQT-eRDT"
   },
   "source": [
    "### Load Data"
   ]
  },
  {
   "cell_type": "markdown",
   "metadata": {
    "id": "S9jmHkNcxt5w"
   },
   "source": [
    "Upload the four sets of files: `mimic-train.zip`, `mimic-test.zip`, `mimic_train_student.csv`, and `mimic_test_student.csv`. It should take about 10 minutes for these files to be uploaded. Then, run the following cells to unzip the dataset (which should take < 10 seconds)"
   ]
  },
  {
   "cell_type": "code",
   "execution_count": null,
   "metadata": {
    "colab": {
     "base_uri": "https://localhost:8080/"
    },
    "id": "8NviEfw3xDu1",
    "outputId": "7b962ada-0735-4b95-946e-6579ada3cfac"
   },
   "outputs": [],
   "source": [
    "!unzip content/mimic-train.zip"
   ]
  },
  {
   "cell_type": "code",
   "execution_count": null,
   "metadata": {
    "id": "qhknj6Gtwa_g"
   },
   "outputs": [],
   "source": [
    "!unzip content/mimic-test.zip"
   ]
  },
  {
   "cell_type": "code",
   "execution_count": null,
   "metadata": {
    "id": "CFyfVk1jSvEM"
   },
   "outputs": [],
   "source": [
    "!ls content"
   ]
  },
  {
   "cell_type": "markdown",
   "metadata": {
    "id": "03dEuEHVeUYs"
   },
   "source": [
    "### Understanding the Data"
   ]
  },
  {
   "cell_type": "markdown",
   "metadata": {
    "id": "5765hi_9kSbE"
   },
   "source": [
    "Let's first go through some terminology. Medical data is often stored in a hierarchy consisting of three levels: patient, study, and images.\n",
    "- Patient: A patient is a single unique individual.\n",
    "- Study: Each patient may have multiple sets of images taken, perhaps on different days. Each set of images is referred to as a *study*.\n",
    "- Images: Each study consists of one or more *images*."
   ]
  },
  {
   "cell_type": "markdown",
   "metadata": {
    "id": "WVBKP0ZgpEa7"
   },
   "source": [
    "Chest X-ray images and radiology reports are stored in `data/` and are organized as follows:\n",
    "- `data/mimic-train`:\n",
    "  - Images: The MIMIC training set consists of 5313 subfolders, each representing a patient. Every patient has one or more studies, which are stored as subfolders. Images are stored in study folders as `.jpg` files with 512x512 pixels.\n",
    "  - Text: Reports are stored in patient folders with  `.txt` extensions. The filename corresponds to the study id and the content of the report applies to all images in the corresponding study.\n",
    "- `data/mimic-test`: The MIMIC test set is organized in a similar fashion as the MIMIC training set. Note that this is a held-out test set with 500 images that we will use for scoring models, so reports are not provided!\n",
    "- `data/mimic_train_student.csv`: This spreadsheet provides mappings between image paths, report paths, patient ids, study ids, and image ids for samples in the training set.\n",
    "- `data/mimic_test_student.csv`: This spreadsheet provides mappings between image paths, patient ids, study ids, and image ids for samples in the test set."
   ]
  },
  {
   "cell_type": "code",
   "execution_count": 1,
   "metadata": {
    "colab": {
     "base_uri": "https://localhost:8080/",
     "height": 529
    },
    "id": "3NUgD5CAeXmU",
    "outputId": "9051fd16-2c25-4191-bc59-2b38718f5f2a"
   },
   "outputs": [],
   "source": [
    "# Example Image\n",
    "from PIL import Image\n",
    "img = Image.open(f\"content/mimic-train/12000/59707/90529.jpg\")\n",
    "img.show()"
   ]
  },
  {
   "cell_type": "code",
   "execution_count": 2,
   "metadata": {
    "colab": {
     "base_uri": "https://localhost:8080/"
    },
    "id": "pM20ZAJYfrGI",
    "outputId": "a02e8986-08ea-4c4b-c6e2-590e3e53a9ae"
   },
   "outputs": [
    {
     "data": {
      "text/plain": [
       "['                                 FINAL REPORT\\n',\n",
       " ' PORTABLE CHEST ___\\n',\n",
       " ' \\n',\n",
       " ' COMPARISON:  ___ radiograph.\\n',\n",
       " ' \\n',\n",
       " ' FINDINGS:  Tip of endotracheal tube terminates 6 cm above the carina. \\n',\n",
       " ' Cardiomediastinal contours are normal in appearance, and lungs are grossly\\n',\n",
       " ' clear.\\n']"
      ]
     },
     "execution_count": 2,
     "metadata": {},
     "output_type": "execute_result"
    }
   ],
   "source": [
    "# Example Text Report\n",
    "with open(f\"content/mimic-train/12000/59707.txt\", \"r\") as f:\n",
    "    txt = f.readlines()\n",
    "txt"
   ]
  },
  {
   "cell_type": "code",
   "execution_count": 63,
   "metadata": {
    "colab": {
     "base_uri": "https://localhost:8080/",
     "height": 424
    },
    "id": "Ot-DSq6nzlsl",
    "outputId": "4dff3087-043f-4583-e7ad-0aaba6c630a9"
   },
   "outputs": [
    {
     "data": {
      "text/html": [
       "<div>\n",
       "<style scoped>\n",
       "    .dataframe tbody tr th:only-of-type {\n",
       "        vertical-align: middle;\n",
       "    }\n",
       "\n",
       "    .dataframe tbody tr th {\n",
       "        vertical-align: top;\n",
       "    }\n",
       "\n",
       "    .dataframe thead th {\n",
       "        text-align: right;\n",
       "    }\n",
       "</style>\n",
       "<table border=\"1\" class=\"dataframe\">\n",
       "  <thead>\n",
       "    <tr style=\"text-align: right;\">\n",
       "      <th></th>\n",
       "      <th>patient_id</th>\n",
       "      <th>study_id</th>\n",
       "      <th>image_id</th>\n",
       "      <th>image_path</th>\n",
       "      <th>report_path</th>\n",
       "    </tr>\n",
       "  </thead>\n",
       "  <tbody>\n",
       "    <tr>\n",
       "      <th>0</th>\n",
       "      <td>13282</td>\n",
       "      <td>56112</td>\n",
       "      <td>91263</td>\n",
       "      <td>mimic-train/13282/56112/91263.jpg</td>\n",
       "      <td>mimic-train/13282/56112.txt</td>\n",
       "    </tr>\n",
       "    <tr>\n",
       "      <th>1</th>\n",
       "      <td>13282</td>\n",
       "      <td>58693</td>\n",
       "      <td>86967</td>\n",
       "      <td>mimic-train/13282/58693/86967.jpg</td>\n",
       "      <td>mimic-train/13282/58693.txt</td>\n",
       "    </tr>\n",
       "    <tr>\n",
       "      <th>2</th>\n",
       "      <td>13360</td>\n",
       "      <td>54397</td>\n",
       "      <td>84764</td>\n",
       "      <td>mimic-train/13360/54397/84764.jpg</td>\n",
       "      <td>mimic-train/13360/54397.txt</td>\n",
       "    </tr>\n",
       "    <tr>\n",
       "      <th>3</th>\n",
       "      <td>13360</td>\n",
       "      <td>57560</td>\n",
       "      <td>92873</td>\n",
       "      <td>mimic-train/13360/57560/92873.jpg</td>\n",
       "      <td>mimic-train/13360/57560.txt</td>\n",
       "    </tr>\n",
       "    <tr>\n",
       "      <th>4</th>\n",
       "      <td>13360</td>\n",
       "      <td>62326</td>\n",
       "      <td>88457</td>\n",
       "      <td>mimic-train/13360/62326/88457.jpg</td>\n",
       "      <td>mimic-train/13360/62326.txt</td>\n",
       "    </tr>\n",
       "    <tr>\n",
       "      <th>...</th>\n",
       "      <td>...</td>\n",
       "      <td>...</td>\n",
       "      <td>...</td>\n",
       "      <td>...</td>\n",
       "      <td>...</td>\n",
       "    </tr>\n",
       "    <tr>\n",
       "      <th>12240</th>\n",
       "      <td>13795</td>\n",
       "      <td>60202</td>\n",
       "      <td>87633</td>\n",
       "      <td>mimic-train/13795/60202/87633.jpg</td>\n",
       "      <td>mimic-train/13795/60202.txt</td>\n",
       "    </tr>\n",
       "    <tr>\n",
       "      <th>12241</th>\n",
       "      <td>13795</td>\n",
       "      <td>60202</td>\n",
       "      <td>82617</td>\n",
       "      <td>mimic-train/13795/60202/82617.jpg</td>\n",
       "      <td>mimic-train/13795/60202.txt</td>\n",
       "    </tr>\n",
       "    <tr>\n",
       "      <th>12242</th>\n",
       "      <td>13818</td>\n",
       "      <td>59053</td>\n",
       "      <td>93743</td>\n",
       "      <td>mimic-train/13818/59053/93743.jpg</td>\n",
       "      <td>mimic-train/13818/59053.txt</td>\n",
       "    </tr>\n",
       "    <tr>\n",
       "      <th>12243</th>\n",
       "      <td>13906</td>\n",
       "      <td>62812</td>\n",
       "      <td>85124</td>\n",
       "      <td>mimic-train/13906/62812/85124.jpg</td>\n",
       "      <td>mimic-train/13906/62812.txt</td>\n",
       "    </tr>\n",
       "    <tr>\n",
       "      <th>12244</th>\n",
       "      <td>13906</td>\n",
       "      <td>59127</td>\n",
       "      <td>93769</td>\n",
       "      <td>mimic-train/13906/59127/93769.jpg</td>\n",
       "      <td>mimic-train/13906/59127.txt</td>\n",
       "    </tr>\n",
       "  </tbody>\n",
       "</table>\n",
       "<p>12245 rows × 5 columns</p>\n",
       "</div>"
      ],
      "text/plain": [
       "       patient_id  study_id  image_id                         image_path  \\\n",
       "0           13282     56112     91263  mimic-train/13282/56112/91263.jpg   \n",
       "1           13282     58693     86967  mimic-train/13282/58693/86967.jpg   \n",
       "2           13360     54397     84764  mimic-train/13360/54397/84764.jpg   \n",
       "3           13360     57560     92873  mimic-train/13360/57560/92873.jpg   \n",
       "4           13360     62326     88457  mimic-train/13360/62326/88457.jpg   \n",
       "...           ...       ...       ...                                ...   \n",
       "12240       13795     60202     87633  mimic-train/13795/60202/87633.jpg   \n",
       "12241       13795     60202     82617  mimic-train/13795/60202/82617.jpg   \n",
       "12242       13818     59053     93743  mimic-train/13818/59053/93743.jpg   \n",
       "12243       13906     62812     85124  mimic-train/13906/62812/85124.jpg   \n",
       "12244       13906     59127     93769  mimic-train/13906/59127/93769.jpg   \n",
       "\n",
       "                       report_path  \n",
       "0      mimic-train/13282/56112.txt  \n",
       "1      mimic-train/13282/58693.txt  \n",
       "2      mimic-train/13360/54397.txt  \n",
       "3      mimic-train/13360/57560.txt  \n",
       "4      mimic-train/13360/62326.txt  \n",
       "...                            ...  \n",
       "12240  mimic-train/13795/60202.txt  \n",
       "12241  mimic-train/13795/60202.txt  \n",
       "12242  mimic-train/13818/59053.txt  \n",
       "12243  mimic-train/13906/62812.txt  \n",
       "12244  mimic-train/13906/59127.txt  \n",
       "\n",
       "[12245 rows x 5 columns]"
      ]
     },
     "execution_count": 63,
     "metadata": {},
     "output_type": "execute_result"
    }
   ],
   "source": [
    "# Load csv file with mappings\n",
    "import pandas as pd\n",
    "df = pd.read_csv('content/mimic_train_student.csv',index_col=0)\n",
    "df"
   ]
  },
  {
   "cell_type": "code",
   "execution_count": 286,
   "metadata": {
    "colab": {
     "base_uri": "https://localhost:8080/"
    },
    "id": "rDnmu4wWTa95",
    "outputId": "ac818ccd-5a04-4073-b6e0-27825a8f7ba7"
   },
   "outputs": [],
   "source": [
    "samp = df.sample(10)\n",
    "sample_reports = []\n",
    "for n in range(len(samp)):\n",
    "    path = samp.iloc[n]['report_path']\n",
    "    f = open('content/'+path, \"r\")\n",
    "    report = ''.join(f.readlines())\n",
    "    sample_reports.append(report)"
   ]
  },
  {
   "cell_type": "markdown",
   "metadata": {
    "id": "pqmARLEuhaGP"
   },
   "source": [
    "### Extracting Tube Distance Labels"
   ]
  },
  {
   "cell_type": "markdown",
   "metadata": {
    "id": "kwGvV1LZnfcq"
   },
   "source": [
    "You're now ready to begin this task! Keep in mind that not every chest X-ray provided in the training set contains endotracheal tube distance information, and there may be several edge cases to consider."
   ]
  },
  {
   "cell_type": "code",
   "execution_count": 8,
   "metadata": {
    "id": "0rhU35IDhdAf"
   },
   "outputs": [],
   "source": [
    "sample = ['                                 FINAL REPORT\\n',\n",
    " ' PORTABLE CHEST ___\\n',\n",
    " ' \\n',\n",
    " ' COMPARISON:  ___ radiograph.\\n',\n",
    " ' \\n',\n",
    " ' FINDINGS:  Tip of endotracheal tube terminates 6 cm above the carina. \\n',\n",
    " ' Cardiomediastinal contours are normal in appearance, and lungs are grossly\\n',\n",
    " ' clear.\\n']"
   ]
  },
  {
   "cell_type": "code",
   "execution_count": 91,
   "metadata": {},
   "outputs": [
    {
     "data": {
      "text/plain": [
       "'FINAL REPORT\\n INDICATION:  ___ s/p DD liver transplant admitted to SICU // pls assess for\\n ptx, fluid status, any acute abnormalities\\n \\n TECHNIQUE:  Chest PA and lateral\\n \\n COMPARISON:  ___\\n \\n FINDINGS: \\n \\n Endotracheal tube in situ with the tip 45 mm proximal to the carina. \\n Swan-Ganz catheter in situ in the appropriate position.  Right-sided IJV\\n sheath in situ with the tip in the proximal SVC. The cardiomediastinal shadow\\n is normal. No pulmonary edema. No pneumothorax. No pleural effusion. No\\n airspace consolidation. NG tube in situ coursing out of sight inferiorly. \\n Abdominal ___-___ drain in situ.\\n \\n IMPRESSION: \\n \\n No pneumothorax or pulmonary edema.'"
      ]
     },
     "execution_count": 91,
     "metadata": {},
     "output_type": "execute_result"
    }
   ],
   "source": [
    "sample_reports[4].strip()"
   ]
  },
  {
   "cell_type": "code",
   "execution_count": 178,
   "metadata": {},
   "outputs": [],
   "source": [
    "from transformers import AutoModelForQuestionAnswering, AutoTokenizer, pipeline\n",
    "\n",
    "model_name = \"deepset/tinyroberta-squad2\"\n",
    "\n",
    "# a) Get predictions\n",
    "nlp = pipeline('question-answering', model=model_name, tokenizer=model_name)"
   ]
  },
  {
   "cell_type": "code",
   "execution_count": 289,
   "metadata": {},
   "outputs": [
    {
     "name": "stdout",
     "output_type": "stream",
     "text": [
      "0 {'score': 0.5575271844863892, 'start': 207, 'end': 213, 'answer': '3.0 cm'}\n",
      "1 {'score': 0.36157333850860596, 'start': 1137, 'end': 1158, 'answer': '6 cm above the carina'}\n",
      "2 {'score': 0.5293547511100769, 'start': 681, 'end': 686, 'answer': '59 mm'}\n",
      "3 {'score': 0.10115028917789459, 'start': 263, 'end': 269, 'answer': '3.8 cm'}\n",
      "4 {'score': 0.21408334374427795, 'start': 507, 'end': 513, 'answer': '5.4 cm'}\n",
      "5 {'score': 0.6741148233413696, 'start': 295, 'end': 301, 'answer': '4.2 cm'}\n",
      "6 {'score': 0.4947572350502014, 'start': 143, 'end': 149, 'answer': '6.5 cm'}\n",
      "7 {'score': 0.7383593916893005, 'start': 1461, 'end': 1467, 'answer': '2.9 cm'}\n",
      "8 {'score': 0.532941460609436, 'start': 238, 'end': 244, 'answer': '3.5 cm'}\n",
      "9 {'score': 5.3249912923547527e-08, 'start': 858, 'end': 877, 'answer': 'level of the carina'}\n"
     ]
    }
   ],
   "source": [
    "for n, rep in enumerate(sample_reports):\n",
    "    QA_input = {\n",
    "    'question': 'What is the current distance between the carina and the endotracheal (ET) tube (ETT) or tracheostomy tube?',\n",
    "    'context': sample_reports[n].strip().replace('\\n','')\n",
    "}\n",
    "    print(n,nlp(QA_input))"
   ]
  },
  {
   "cell_type": "code",
   "execution_count": 290,
   "metadata": {},
   "outputs": [],
   "source": [
    "q = 'What is the current distance between the carina and the endotracheal (ET) tube (ETT) or tracheostomy tube?'\n",
    "def extract_distance(report_path):\n",
    "    f = open('content/'+report_path, \"r\")\n",
    "    report = ''.join(f.readlines())\n",
    "    f.close()\n",
    "    QA_input = {\n",
    "        'question': q,\n",
    "        'context': report.strip().replace('\\n','')\n",
    "    }\n",
    "    output = nlp(QA_input)\n",
    "    if output['score'] > 0.005:\n",
    "        return output['answer']\n",
    "    else:\n",
    "        return 'NO DISTANCE'"
   ]
  },
  {
   "cell_type": "code",
   "execution_count": 288,
   "metadata": {
    "scrolled": false
   },
   "outputs": [
    {
     "data": {
      "text/plain": [
       "['3.0 cm',\n",
       " '6 cm above the carina',\n",
       " '59 mm',\n",
       " '3.8 cm',\n",
       " '5.4 cm',\n",
       " '4.2 cm',\n",
       " '6.5 cm',\n",
       " '2.9 cm',\n",
       " '3.5 cm',\n",
       " 'NO DISTANCE']"
      ]
     },
     "execution_count": 288,
     "metadata": {},
     "output_type": "execute_result"
    }
   ],
   "source": [
    "list(samp['report_path'].apply(extract_distance))"
   ]
  },
  {
   "cell_type": "code",
   "execution_count": null,
   "metadata": {},
   "outputs": [],
   "source": [
    "df['distance_raw'] = df['report_path'].apply(extract_distance)"
   ]
  },
  {
   "cell_type": "code",
   "execution_count": null,
   "metadata": {},
   "outputs": [],
   "source": [
    "df.to_csv('with_dist.csv')"
   ]
  },
  {
   "cell_type": "code",
   "execution_count": 60,
   "metadata": {},
   "outputs": [],
   "source": [
    "import re"
   ]
  },
  {
   "cell_type": "code",
   "execution_count": 102,
   "metadata": {},
   "outputs": [],
   "source": [
    "def convert_mm(input_text):\n",
    "    if input_text == \"NO DISTANCE\":\n",
    "        return None\n",
    "    match = re.search(r\"(?i)\\d+(\\.\\d+)?\\s?(cm|mm|centimeter)\",input_text)\n",
    "    if match == None:\n",
    "        return None\n",
    "    match = match.group()\n",
    "    num = float(re.search(r\"\\d+(\\.\\d+)?\",match).group())\n",
    "    unit = re.search(r\"(?i)(cm|mm|centimeter)\",match).group().lower()\n",
    "    if unit == 'cm' or unit == 'centimeter':\n",
    "        num *= 10\n",
    "    return num"
   ]
  },
  {
   "cell_type": "code",
   "execution_count": 74,
   "metadata": {},
   "outputs": [],
   "source": [
    "with_dist = pd.read_csv('content/with_dist.csv',index_col=0)"
   ]
  },
  {
   "cell_type": "code",
   "execution_count": 103,
   "metadata": {},
   "outputs": [],
   "source": [
    "with_dist['distance_mm'] = with_dist['distance_raw'].apply(convert_mm)"
   ]
  },
  {
   "cell_type": "code",
   "execution_count": 114,
   "metadata": {},
   "outputs": [
    {
     "data": {
      "text/html": [
       "<div>\n",
       "<style scoped>\n",
       "    .dataframe tbody tr th:only-of-type {\n",
       "        vertical-align: middle;\n",
       "    }\n",
       "\n",
       "    .dataframe tbody tr th {\n",
       "        vertical-align: top;\n",
       "    }\n",
       "\n",
       "    .dataframe thead th {\n",
       "        text-align: right;\n",
       "    }\n",
       "</style>\n",
       "<table border=\"1\" class=\"dataframe\">\n",
       "  <thead>\n",
       "    <tr style=\"text-align: right;\">\n",
       "      <th></th>\n",
       "      <th>patient_id</th>\n",
       "      <th>study_id</th>\n",
       "      <th>image_id</th>\n",
       "      <th>image_path</th>\n",
       "      <th>report_path</th>\n",
       "      <th>distance_raw</th>\n",
       "      <th>distance_mm</th>\n",
       "    </tr>\n",
       "  </thead>\n",
       "  <tbody>\n",
       "    <tr>\n",
       "      <th>0</th>\n",
       "      <td>13282</td>\n",
       "      <td>56112</td>\n",
       "      <td>91263</td>\n",
       "      <td>mimic-train/13282/56112/91263.jpg</td>\n",
       "      <td>mimic-train/13282/56112.txt</td>\n",
       "      <td>6 cm</td>\n",
       "      <td>60.0</td>\n",
       "    </tr>\n",
       "    <tr>\n",
       "      <th>1</th>\n",
       "      <td>13360</td>\n",
       "      <td>54397</td>\n",
       "      <td>84764</td>\n",
       "      <td>mimic-train/13360/54397/84764.jpg</td>\n",
       "      <td>mimic-train/13360/54397.txt</td>\n",
       "      <td>5.6 cm</td>\n",
       "      <td>56.0</td>\n",
       "    </tr>\n",
       "    <tr>\n",
       "      <th>2</th>\n",
       "      <td>13360</td>\n",
       "      <td>57560</td>\n",
       "      <td>92873</td>\n",
       "      <td>mimic-train/13360/57560/92873.jpg</td>\n",
       "      <td>mimic-train/13360/57560.txt</td>\n",
       "      <td>4.6 cm</td>\n",
       "      <td>46.0</td>\n",
       "    </tr>\n",
       "    <tr>\n",
       "      <th>3</th>\n",
       "      <td>13360</td>\n",
       "      <td>62326</td>\n",
       "      <td>88457</td>\n",
       "      <td>mimic-train/13360/62326/88457.jpg</td>\n",
       "      <td>mimic-train/13360/62326.txt</td>\n",
       "      <td>5 cm</td>\n",
       "      <td>50.0</td>\n",
       "    </tr>\n",
       "    <tr>\n",
       "      <th>4</th>\n",
       "      <td>13360</td>\n",
       "      <td>59248</td>\n",
       "      <td>87908</td>\n",
       "      <td>mimic-train/13360/59248/87908.jpg</td>\n",
       "      <td>mimic-train/13360/59248.txt</td>\n",
       "      <td>1.8 cm</td>\n",
       "      <td>18.0</td>\n",
       "    </tr>\n",
       "    <tr>\n",
       "      <th>...</th>\n",
       "      <td>...</td>\n",
       "      <td>...</td>\n",
       "      <td>...</td>\n",
       "      <td>...</td>\n",
       "      <td>...</td>\n",
       "      <td>...</td>\n",
       "      <td>...</td>\n",
       "    </tr>\n",
       "    <tr>\n",
       "      <th>11451</th>\n",
       "      <td>13795</td>\n",
       "      <td>60202</td>\n",
       "      <td>87633</td>\n",
       "      <td>mimic-train/13795/60202/87633.jpg</td>\n",
       "      <td>mimic-train/13795/60202.txt</td>\n",
       "      <td>3.7 cm</td>\n",
       "      <td>37.0</td>\n",
       "    </tr>\n",
       "    <tr>\n",
       "      <th>11452</th>\n",
       "      <td>13795</td>\n",
       "      <td>60202</td>\n",
       "      <td>82617</td>\n",
       "      <td>mimic-train/13795/60202/82617.jpg</td>\n",
       "      <td>mimic-train/13795/60202.txt</td>\n",
       "      <td>3.7 cm</td>\n",
       "      <td>37.0</td>\n",
       "    </tr>\n",
       "    <tr>\n",
       "      <th>11453</th>\n",
       "      <td>13818</td>\n",
       "      <td>59053</td>\n",
       "      <td>93743</td>\n",
       "      <td>mimic-train/13818/59053/93743.jpg</td>\n",
       "      <td>mimic-train/13818/59053.txt</td>\n",
       "      <td>4.7 cm</td>\n",
       "      <td>47.0</td>\n",
       "    </tr>\n",
       "    <tr>\n",
       "      <th>11454</th>\n",
       "      <td>13906</td>\n",
       "      <td>62812</td>\n",
       "      <td>85124</td>\n",
       "      <td>mimic-train/13906/62812/85124.jpg</td>\n",
       "      <td>mimic-train/13906/62812.txt</td>\n",
       "      <td>3.5 cm</td>\n",
       "      <td>35.0</td>\n",
       "    </tr>\n",
       "    <tr>\n",
       "      <th>11455</th>\n",
       "      <td>13906</td>\n",
       "      <td>59127</td>\n",
       "      <td>93769</td>\n",
       "      <td>mimic-train/13906/59127/93769.jpg</td>\n",
       "      <td>mimic-train/13906/59127.txt</td>\n",
       "      <td>2.9 cm</td>\n",
       "      <td>29.0</td>\n",
       "    </tr>\n",
       "  </tbody>\n",
       "</table>\n",
       "<p>11456 rows × 7 columns</p>\n",
       "</div>"
      ],
      "text/plain": [
       "       patient_id  study_id  image_id                         image_path  \\\n",
       "0           13282     56112     91263  mimic-train/13282/56112/91263.jpg   \n",
       "1           13360     54397     84764  mimic-train/13360/54397/84764.jpg   \n",
       "2           13360     57560     92873  mimic-train/13360/57560/92873.jpg   \n",
       "3           13360     62326     88457  mimic-train/13360/62326/88457.jpg   \n",
       "4           13360     59248     87908  mimic-train/13360/59248/87908.jpg   \n",
       "...           ...       ...       ...                                ...   \n",
       "11451       13795     60202     87633  mimic-train/13795/60202/87633.jpg   \n",
       "11452       13795     60202     82617  mimic-train/13795/60202/82617.jpg   \n",
       "11453       13818     59053     93743  mimic-train/13818/59053/93743.jpg   \n",
       "11454       13906     62812     85124  mimic-train/13906/62812/85124.jpg   \n",
       "11455       13906     59127     93769  mimic-train/13906/59127/93769.jpg   \n",
       "\n",
       "                       report_path distance_raw  distance_mm  \n",
       "0      mimic-train/13282/56112.txt         6 cm         60.0  \n",
       "1      mimic-train/13360/54397.txt       5.6 cm         56.0  \n",
       "2      mimic-train/13360/57560.txt       4.6 cm         46.0  \n",
       "3      mimic-train/13360/62326.txt         5 cm         50.0  \n",
       "4      mimic-train/13360/59248.txt       1.8 cm         18.0  \n",
       "...                            ...          ...          ...  \n",
       "11451  mimic-train/13795/60202.txt       3.7 cm         37.0  \n",
       "11452  mimic-train/13795/60202.txt       3.7 cm         37.0  \n",
       "11453  mimic-train/13818/59053.txt       4.7 cm         47.0  \n",
       "11454  mimic-train/13906/62812.txt       3.5 cm         35.0  \n",
       "11455  mimic-train/13906/59127.txt       2.9 cm         29.0  \n",
       "\n",
       "[11456 rows x 7 columns]"
      ]
     },
     "execution_count": 114,
     "metadata": {},
     "output_type": "execute_result"
    }
   ],
   "source": [
    "df_mm = with_dist[with_dist['distance_mm'] > 0].reset_index().drop('index',axis=1)\n",
    "df_mm"
   ]
  },
  {
   "cell_type": "code",
   "execution_count": 116,
   "metadata": {},
   "outputs": [],
   "source": [
    "df_mm.to_csv('content/distances.csv')"
   ]
  }
 ],
 "metadata": {
  "colab": {
   "provenance": []
  },
  "kernelspec": {
   "display_name": "Python 3 (ipykernel)",
   "language": "python",
   "name": "python3"
  },
  "language_info": {
   "codemirror_mode": {
    "name": "ipython",
    "version": 3
   },
   "file_extension": ".py",
   "mimetype": "text/x-python",
   "name": "python",
   "nbconvert_exporter": "python",
   "pygments_lexer": "ipython3",
   "version": "3.9.2"
  }
 },
 "nbformat": 4,
 "nbformat_minor": 1
}
